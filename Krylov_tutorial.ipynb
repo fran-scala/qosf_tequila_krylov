{
 "cells": [
  {
   "cell_type": "markdown",
   "metadata": {},
   "source": [
    "# Krylov method with Tequila tutorial"
   ]
  },
  {
   "cell_type": "markdown",
   "metadata": {},
   "source": [
    "Welcome! This is a Tequila tutorial in which you can learn how to apply the **Krylov method** to approximate the ground state of a given Hamiltonian."
   ]
  },
  {
   "cell_type": "markdown",
   "metadata": {},
   "source": [
    "## Theoretical introduction"
   ]
  },
  {
   "cell_type": "markdown",
   "metadata": {},
   "source": [
    "Here we briefly introduce the main idea of the MultiReference Selected Quantum Krylov (MRSQK) method motivating why it is useful to have it implemented in Tequila."
   ]
  },
  {
   "cell_type": "markdown",
   "metadata": {},
   "source": [
    "MRSQK is a low-cost alternative to the quantum phase estimation algorithm that allows to generate the ground state of an hamiltonian as a linear combination of non-orthogonal Krylov basis states $\\mathcal{K}_s = \\{\\psi_\\alpha, \\ \\alpha=1, 2,  ... , N\\}$. This basis is usually obtained via real time evolution from a reference set of states.\n",
    "\n",
    "So, given an hamiltonian $H$ and a Krylov basis $\\mathcal{K}_s$, the ground state of $H$ can be written as:\n",
    "\n",
    "$$|\\Psi\\rangle = \\sum_\\alpha c_\\alpha|\\psi_\\alpha\\rangle \\quad .$$\n",
    "\n",
    "The coefficients $c_\\alpha$ and the ground energy value $E$ can be obtained by solving the following generalized eigenvalue problem:\n",
    "$$\\mathbf{Hc} = \\mathbf{Sc}E$$\n",
    "where the elements of the overlap matrix ($\\mathbf{S}$) and Hamiltonian ($\\mathbf{H}$) are \n",
    "$$S_{\\alpha\\beta} = \\langle\\psi_\\alpha|\\psi_\\beta\\rangle \\quad ,$$\n",
    "$$H_{\\alpha\\beta} = \\langle\\psi_\\alpha|H|\\psi_\\beta\\rangle \\quad .$$"
   ]
  },
  {
   "cell_type": "markdown",
   "metadata": {},
   "source": [
    "Luckily, with tequila we can easily compute terms like $S_{\\alpha\\beta}$ and $H_{\\alpha\\beta}$ thanks to the `tq.braket` function. The `krylov_method` function uses it and allows to easily solve the generalized eigenvalue problem giving as output the energy $E$ and the coefficients $c_\\alpha$."
   ]
  },
  {
   "cell_type": "markdown",
   "metadata": {},
   "source": [
    "## Simple example"
   ]
  },
  {
   "cell_type": "code",
   "execution_count": 2,
   "metadata": {},
   "outputs": [],
   "source": [
    "import tequila as tq\n",
    "from tequila.apps.krylov import krylov_method\n",
    "from tequila.hamiltonian.qubit_hamiltonian import QubitHamiltonian\n",
    "from tequila.tools.random_generators import make_random_circuit\n",
    "import itertools as it\n",
    "import numpy as np"
   ]
  },
  {
   "cell_type": "markdown",
   "metadata": {},
   "source": [
    "Here we present a simple/trivial example in which we apply MRSQK. In order to do this, we create two quantum circuits randomly, $|\\psi\\rangle$ and $|\\phi\\rangle$, and we use these as Krylov basis. "
   ]
  },
  {
   "cell_type": "code",
   "execution_count": 3,
   "metadata": {},
   "outputs": [],
   "source": [
    "np.random.seed(111)#allows reproducibility\n",
    "n_krylov_states = 2\n",
    "#we create states randomly, in this way it is very unlikely they will be orthogonal\n",
    "krylov_circs = [make_random_circuit(2, enable_controls=True) for i in range(n_krylov_states)] \n",
    "\n",
    "# creating the wavefunctions from the circuits\n",
    "krylov_states = [tq.simulate(circ) for circ in krylov_circs]"
   ]
  },
  {
   "cell_type": "markdown",
   "metadata": {},
   "source": [
    "Then we build an Hamiltonian from these as follows:\n",
    "$$H = -|\\psi\\rangle\\langle\\psi|-|\\phi\\rangle\\langle\\psi|-|\\psi\\rangle\\langle\\phi|-|\\phi\\rangle\\langle\\phi|$$\n",
    "in this way we have an hermitian operator and we are sure that the Krylov space contains the ground state. This is a toy hamiltonian that has nothing to do with the Krylov method itself, it's only needed to check the obtained states are the correct ones."
   ]
  },
  {
   "cell_type": "code",
   "execution_count": 4,
   "metadata": {},
   "outputs": [],
   "source": [
    "krylov_states_couples = list(it.product(krylov_states, repeat=2)) # list of all possible couples of Krylov states\n",
    "\n",
    "# creating an hamiltonian from the obtained wavefunctions\n",
    "H = QubitHamiltonian()\n",
    "for i, j in krylov_states_couples:\n",
    "    H -= tq.paulis.KetBra(ket = i, bra = j)"
   ]
  },
  {
   "cell_type": "markdown",
   "metadata": {},
   "source": [
    "At this point we just need to call the `krylov_method` function, providing the Krylov circuits and the hamiltonian. It will build the matrices $\\mathbf{S_{\\alpha\\beta}}$ and $\\mathbf{H_{\\alpha\\beta}}$ and then return the ground energy $E$ and the coefficients $c_\\alpha$:"
   ]
  },
  {
   "cell_type": "code",
   "execution_count": 16,
   "metadata": {},
   "outputs": [],
   "source": [
    "#applying Krylov method\n",
    "kry_energies, kry_coefficients_matrix = krylov_method(krylov_circs, H)\n",
    "\n",
    "kry_ground_energy = kry_energies[0]\n",
    "kry_ground_coefficients = kry_coefficients_matrix[:,0]"
   ]
  },
  {
   "cell_type": "markdown",
   "metadata": {},
   "source": [
    "In order to check if the method gives meaningful solutions we can directly diagonalize the hamiltonian $H$:"
   ]
  },
  {
   "cell_type": "code",
   "execution_count": 17,
   "metadata": {},
   "outputs": [],
   "source": [
    "#exact diagonalization\n",
    "eigenvalues, eigenvectors = np.linalg.eigh(H.to_matrix())"
   ]
  },
  {
   "cell_type": "markdown",
   "metadata": {},
   "source": [
    "As you can see below the ground energy and the ground states do correspond:"
   ]
  },
  {
   "cell_type": "code",
   "execution_count": 18,
   "metadata": {},
   "outputs": [
    {
     "name": "stdout",
     "output_type": "stream",
     "text": [
      "Ground State Energy Krylov: -1.6530\n",
      "Ground State Energy: -1.6530\n"
     ]
    }
   ],
   "source": [
    "print('Ground State Energy Krylov: {:.4f}'.format(kry_ground_energy))\n",
    "print('Ground State Energy: {:.4f}'.format( eigenvalues[0]))"
   ]
  },
  {
   "cell_type": "code",
   "execution_count": 43,
   "metadata": {},
   "outputs": [
    {
     "name": "stdout",
     "output_type": "stream",
     "text": [
      "+0.7338e^(-0.4020πi)|00> +0.5664i|10> -0.2799|11> +0.2497e^(+0.8983πi)|01> \n"
     ]
    }
   ],
   "source": [
    "ground_state = tq.QubitWaveFunction()\n",
    "for i in range(n_krylov_states):\n",
    "    ground_state += kry_ground_coefficients[i]*krylov_states[i]\n",
    "print(ground_state)"
   ]
  },
  {
   "cell_type": "code",
   "execution_count": 44,
   "metadata": {},
   "outputs": [
    {
     "name": "stdout",
     "output_type": "stream",
     "text": [
      "+0.7338|00> +0.2497e^(-0.6997πi)|01> +0.5664e^(+0.9020πi)|10> +0.2799e^(-0.5980πi)|11> \n"
     ]
    }
   ],
   "source": [
    "wfn = tq.QubitWaveFunction.from_array(eigenvectors[:,0])\n",
    "#print(eigenvectors[0])\n",
    "print(wfn)"
   ]
  },
  {
   "cell_type": "markdown",
   "metadata": {},
   "source": [
    "The obtained ground state seems different at first glance, but the states are actually identical due to equivalence up to a global phase.\n",
    "Thise depends on the employed simulator that decomposes gates up to a global phase. Using different ones may lead to different global phases, still having the same state.\n",
    "\n",
    "We can easily check that these two are the same state by computing the *fidelity* between the two:"
   ]
  },
  {
   "cell_type": "code",
   "execution_count": 34,
   "metadata": {},
   "outputs": [
    {
     "name": "stdout",
     "output_type": "stream",
     "text": [
      "1.0\n"
     ]
    }
   ],
   "source": [
    "fidelity = abs(wfn.inner(ground_state.normalize()))**2\n",
    "print(fidelity)"
   ]
  }
 ],
 "metadata": {
  "interpreter": {
   "hash": "ee5daa585c8ec561a96d5711013c1c24469ecacbf4bca7c4925c7fd376e166ab"
  },
  "kernelspec": {
   "display_name": "Python 3.9.12 ('try_tequila')",
   "language": "python",
   "name": "python3"
  },
  "language_info": {
   "codemirror_mode": {
    "name": "ipython",
    "version": 3
   },
   "file_extension": ".py",
   "mimetype": "text/x-python",
   "name": "python",
   "nbconvert_exporter": "python",
   "pygments_lexer": "ipython3",
   "version": "3.9.12"
  },
  "orig_nbformat": 4
 },
 "nbformat": 4,
 "nbformat_minor": 2
}
