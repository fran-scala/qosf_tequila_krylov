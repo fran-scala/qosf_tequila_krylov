{
 "cells": [
  {
   "cell_type": "markdown",
   "metadata": {},
   "source": [
    "# Braket module in Tequila"
   ]
  },
  {
   "cell_type": "markdown",
   "metadata": {},
   "source": [
    "Hi! This is a tutorial to get to know the new Tequila's function: `braket`. With this new function you will be able to easily compute:\n",
    "\n",
    "1. self overlaps;\n",
    "2. overlaps between two different states;\n",
    "3. the expectation value of an operator;\n",
    "4. the transition element of an operator."
   ]
  },
  {
   "cell_type": "markdown",
   "metadata": {},
   "source": [
    "So, let's import Tequila (and some of its modules) and see how this function works."
   ]
  },
  {
   "cell_type": "code",
   "execution_count": 17,
   "metadata": {},
   "outputs": [],
   "source": [
    "#tequila importations\n",
    "import tequila as tq\n",
    "from tequila.circuit.gates import H, X, Rx, CX\n",
    "from tequila.hamiltonian.qubit_hamiltonian import QubitHamiltonian\n",
    "\n",
    "#extra importations\n",
    "import numpy as np\n",
    "import matplotlib.pyplot as plt\n",
    "%matplotlib inline"
   ]
  },
  {
   "cell_type": "markdown",
   "metadata": {},
   "source": [
    "## Basic usage"
   ]
  },
  {
   "cell_type": "markdown",
   "metadata": {},
   "source": [
    "### 1. Self overlap"
   ]
  },
  {
   "cell_type": "markdown",
   "metadata": {},
   "source": [
    "Let's begin from the simplest (and maybe trivial) possible application of the `braket` function: the computation of the self overlap of a quantum state. One can prepare an aritrary circuit, corresponding to the state $|\\psi\\rangle$ and then calculate the self overlap: $\\langle \\psi|\\psi\\rangle$. "
   ]
  },
  {
   "cell_type": "markdown",
   "metadata": {},
   "source": [
    "We can prepare for example a Bell state of two qubits:"
   ]
  },
  {
   "cell_type": "code",
   "execution_count": 10,
   "metadata": {},
   "outputs": [
    {
     "data": {
      "text/html": [
       "<pre style=\"word-wrap: normal;white-space: pre;background: #fff0;line-height: 1.1;font-family: &quot;Courier New&quot;,Courier,monospace\">     ┌───┐     \n",
       "q_0: ┤ H ├──■──\n",
       "     └───┘┌─┴─┐\n",
       "q_1: ─────┤ X ├\n",
       "          └───┘\n",
       "c: 2/══════════\n",
       "               </pre>"
      ],
      "text/plain": [
       "     ┌───┐     \n",
       "q_0: ┤ H ├──■──\n",
       "     └───┘┌─┴─┐\n",
       "q_1: ─────┤ X ├\n",
       "          └───┘\n",
       "c: 2/══════════\n",
       "               "
      ]
     },
     "execution_count": 10,
     "metadata": {},
     "output_type": "execute_result"
    }
   ],
   "source": [
    "bell = tq.QCircuit()\n",
    "bell += H(0)\n",
    "bell += CX(0,1)\n",
    "\n",
    "tq.draw(bell, backend='qiskit')"
   ]
  },
  {
   "cell_type": "markdown",
   "metadata": {},
   "source": [
    "Then, we can simply call the `braket` function passing as unique argument our quantum circuit, this can also be specified as `ket`:"
   ]
  },
  {
   "cell_type": "code",
   "execution_count": 11,
   "metadata": {},
   "outputs": [],
   "source": [
    "self_overlap_real, self_overlap_im = tq.braket(ket=bell)\n",
    "#joining real and imaginary part\n",
    "self_overlap = self_overlap_real + 1.0j*self_overlap_im"
   ]
  },
  {
   "cell_type": "markdown",
   "metadata": {},
   "source": [
    "As we have seen the braket function always return two objects, one for the real part and one for the imaginary one. These are `tq.Objecitve` and need to be simulated in order to obtain a numeric value.\n",
    "\n",
    "Of course, from the laws of quantum mechanics it follows that the self overlap must always be equal to 1, namely $\\langle \\psi|\\psi\\rangle=1$."
   ]
  },
  {
   "cell_type": "code",
   "execution_count": 14,
   "metadata": {},
   "outputs": [
    {
     "data": {
      "text/plain": [
       "1.0"
      ]
     },
     "execution_count": 14,
     "metadata": {},
     "output_type": "execute_result"
    }
   ],
   "source": [
    "self_overlap_value = tq.simulate(self_overlap)\n",
    "self_overlap_value"
   ]
  },
  {
   "cell_type": "markdown",
   "metadata": {},
   "source": [
    "In this particular case Tequila is aware that the self overlap is always 1, so no circuit needs to be executed. This can be checked by printing the `self_overlap` Objective:"
   ]
  },
  {
   "cell_type": "code",
   "execution_count": 13,
   "metadata": {},
   "outputs": [
    {
     "name": "stdout",
     "output_type": "stream",
     "text": [
      "Objective with 0 unique expectation values\n",
      "total measurements = 0\n",
      "variables          = []\n",
      "types              = []\n"
     ]
    }
   ],
   "source": [
    "print(self_overlap)"
   ]
  },
  {
   "cell_type": "markdown",
   "metadata": {},
   "source": [
    "### 2. Overlap between two different states"
   ]
  },
  {
   "cell_type": "markdown",
   "metadata": {},
   "source": [
    "The second step will be to compute the overlap between different states $\\langle\\psi _2|\\psi _1\\rangle$. Even in this case we can exploit the `braket` function.\n",
    "\n",
    "Let's prepare two orthogonal states. In this case the overlap must be equal to 0:\n"
   ]
  },
  {
   "cell_type": "code",
   "execution_count": 15,
   "metadata": {},
   "outputs": [],
   "source": [
    "U0 = X(0) # state |10>\n",
    "U1 = H(0)+CX(0,1) # Bell state 1/sqrt(2)*(|00>+|11>)\n"
   ]
  },
  {
   "cell_type": "markdown",
   "metadata": {},
   "source": [
    "Now, we can call the `braket` function passing as arguments our quantum circuits, specifying which will be the `ket` and which the `bra`.\n",
    "Otherwise the first will be automatically selected as `ket` and second as `bra`:"
   ]
  },
  {
   "cell_type": "code",
   "execution_count": 16,
   "metadata": {},
   "outputs": [
    {
     "data": {
      "text/plain": [
       "0.0"
      ]
     },
     "execution_count": 16,
     "metadata": {},
     "output_type": "execute_result"
    }
   ],
   "source": [
    "br_objective_real, br_objective_im = tq.braket(ket=U0, bra=U1)\n",
    "\n",
    "#joining real and imaginary part\n",
    "br_overlap = br_objective_real + 1.0j*br_objective_im\n",
    "# let's simulate the Objective\n",
    "br_overlap_value = tq.simulate(br_overlap)\n",
    "\n",
    "br_overlap_value"
   ]
  },
  {
   "cell_type": "markdown",
   "metadata": {},
   "source": [
    "We can also define a non-orthogonal state with respect to the previous prepared Bell state. This can be obtained for example by preparing a Bell state followed by a rotation around X-axis. \n",
    "\n",
    "One can then check that changing the angle value will result in changing the overlap between the two states:"
   ]
  },
  {
   "cell_type": "code",
   "execution_count": 26,
   "metadata": {},
   "outputs": [
    {
     "data": {
      "text/plain": [
       "Text(0, 0.5, 'Overlap')"
      ]
     },
     "execution_count": 26,
     "metadata": {},
     "output_type": "execute_result"
    },
    {
     "data": {
      "image/png": "[encoded data removed]",
      "text/plain": [
       "<Figure size 576x360 with 1 Axes>"
      ]
     },
     "metadata": {
      "needs_background": "light"
     },
     "output_type": "display_data"
    }
   ],
   "source": [
    "angle = tq.Variable(\"angle\")\n",
    "U2 = U1 + Rx(angle*np.pi, 1) # Bell state followed by a rotation around X-axis\n",
    "\n",
    "br_objective_real, br_objective_im = tq.braket(ket=U1, bra=U2)\n",
    "br_overlap = br_objective_real + 1.0j*br_objective_im\n",
    "S = tq.compile(br_overlap) # translate to backend\n",
    "\n",
    "overlaps = []\n",
    "for value in np.arange(0,4.1, 0.1): \n",
    "# set the value we want to simulate\n",
    "    variables = {\"angle\" : value}\n",
    "    # let's simulate the Objective\n",
    "    br_overlap_value = S(variables=variables)\n",
    "    overlaps.append(round(br_overlap_value,3))\n",
    "\n",
    "#plotting the trend\n",
    "fig = plt.figure(figsize=(8,5))\n",
    "\n",
    "plt.plot(np.arange(0,4.1, 0.1), overlaps, marker = 'o')\n",
    "plt.xlabel(r'Angle[Units of $\\pi$]')\n",
    "plt.ylabel('Overlap')"
   ]
  },
  {
   "cell_type": "markdown",
   "metadata": {},
   "source": [
    "### 3. Expectation value of an Hamiltonian"
   ]
  },
  {
   "cell_type": "markdown",
   "metadata": {},
   "source": [
    "At this stage, we can see how to use the `braket` function to calculate the expectation value of an Hamiltonian $H$ with respect to a given state $|\\psi\\rangle$."
   ]
  },
  {
   "cell_type": "code",
   "execution_count": 31,
   "metadata": {},
   "outputs": [],
   "source": [
    "# state definition\n",
    "psi = H(0)+CX(0,1) # Bell state 1/sqrt(2)*(|00>+|11>)\n",
    "\n",
    "#Hamiltonian definition\n",
    "operator = QubitHamiltonian.from_string(\"-1.0*X(0)X(1)\")"
   ]
  },
  {
   "cell_type": "markdown",
   "metadata": {},
   "source": [
    "Now, one needs to pass to the `braket` function as `ket` argument our state and as `operator` argument the Hamiltonian.\n",
    "As already seen before, always keep in mind that the `braket` function returns two Objecitves that need to be compiled afterwards. \n",
    "\n",
    "With previous defined state and Hamiltonian we need to obtain an expectation value equal to $-1$."
   ]
  },
  {
   "cell_type": "code",
   "execution_count": 32,
   "metadata": {},
   "outputs": [
    {
     "data": {
      "text/plain": [
       "-1.0"
      ]
     },
     "execution_count": 32,
     "metadata": {},
     "output_type": "execute_result"
    }
   ],
   "source": [
    "#applying braket function\n",
    "br_exp_value_real, br_exp_value_im = tq.braket(ket=psi, operator=operator)\n",
    "#joining real and imaginary part\n",
    "br_exp_value_tmp = br_exp_value_real + 1.0j*br_exp_value_im\n",
    "#simulate the expectation value\n",
    "br_exp_value = tq.simulate(br_exp_value_tmp)\n",
    "br_exp_value"
   ]
  },
  {
   "cell_type": "markdown",
   "metadata": {},
   "source": [
    "Tequila is aware that an `ExpectationValue` is always real, so for the imaginary part no circuit needs to be executed. One can see this by printting `br_exp_value_im`:"
   ]
  },
  {
   "cell_type": "code",
   "execution_count": 33,
   "metadata": {},
   "outputs": [
    {
     "name": "stdout",
     "output_type": "stream",
     "text": [
      "Objective with 0 unique expectation values\n",
      "total measurements = 0\n",
      "variables          = []\n",
      "types              = []\n"
     ]
    }
   ],
   "source": [
    "print(br_exp_value_im)"
   ]
  },
  {
   "cell_type": "markdown",
   "metadata": {},
   "source": [
    "### 4. Transition element of an Hamiltonian"
   ]
  },
  {
   "cell_type": "markdown",
   "metadata": {},
   "source": [
    "As last application, the `braket` function can be used to calculate transition elements of an operator $H$ with respect to two different states $|\\alpha\\rangle, \\ |\\beta\\rangle$: $\\langle\\beta|H|\\alpha\\rangle$.\n",
    "\n",
    "In order to see how things can change, we can procede similarly to section 2 and vary the angle of a rotation:  "
   ]
  },
  {
   "cell_type": "code",
   "execution_count": 41,
   "metadata": {},
   "outputs": [],
   "source": [
    "#states definition\n",
    "alpha = H(0)+CX(0,1) # Bell state 1/sqrt(2)*(|00>+|11>)\n",
    "angle = tq.Variable(\"angle\")\n",
    "beta = alpha + Rx(angle*np.pi, 1) # Bell state followed by a rotation around X-axis\n",
    "\n",
    "#Hamiltonian definition\n",
    "operator = QubitHamiltonian(\"-1.0*X(0)X(1)\")\n",
    "\n",
    "br_trans_real, br_trans_im = tq.braket(ket=alpha, bra=beta, operator=operator)\n",
    "br_trans_el = br_trans_real + 1.0j*br_trans_im\n",
    "H_ab = tq.compile(br_trans_el) # transalte to backend\n",
    "\n",
    "transitions = []\n",
    "for value in np.arange(0,4.1, 0.1): \n",
    "    # set the value we want to simulate\n",
    "    variables = {\"angle\" : value}\n",
    "    br_trans_value = H_ab(variables=variables)\n",
    "    transitions.append(round(br_trans_value,3))"
   ]
  },
  {
   "cell_type": "code",
   "execution_count": 42,
   "metadata": {},
   "outputs": [
    {
     "data": {
      "text/plain": [
       "Text(0, 0.5, 'Transitions')"
      ]
     },
     "execution_count": 42,
     "metadata": {},
     "output_type": "execute_result"
    },
    {
     "data": {
      "image/png": "[encoded data removed]",
      "text/plain": [
       "<Figure size 576x360 with 1 Axes>"
      ]
     },
     "metadata": {
      "needs_background": "light"
     },
     "output_type": "display_data"
    }
   ],
   "source": [
    "#plotting the trend\n",
    "fig = plt.figure(figsize=(8,5))\n",
    "plt.plot(np.arange(0,4.1, 0.1), transitions, marker = 'o')\n",
    "plt.xlabel(r'Angle[$\\pi$]')\n",
    "plt.ylabel('Transitions')"
   ]
  },
  {
   "cell_type": "markdown",
   "metadata": {},
   "source": [
    "Even in this particular case the imaginary part is 0 (as for an `ExpectationValue`), but in this case this happens because the wave functions are real. The difference can be noticed again by printing `br_trans_im` where in this case there is one circuit to be executed:"
   ]
  },
  {
   "cell_type": "code",
   "execution_count": 43,
   "metadata": {},
   "outputs": [
    {
     "name": "stdout",
     "output_type": "stream",
     "text": [
      "Objective with 1 unique expectation values\n",
      "total measurements = 1\n",
      "variables          = [angle]\n",
      "types              = not compiled\n"
     ]
    }
   ],
   "source": [
    "print(br_trans_im)"
   ]
  },
  {
   "cell_type": "markdown",
   "metadata": {},
   "source": [
    "In the end, we can address one small example in which the imaginary part is not 0. We have:\n",
    "\n",
    "$$|\\psi_0\\rangle=R_x(a)\\rvert  0 \\rangle = \\cos(a/2) \\rvert 0 \\rangle - i\\sin(a/2)\\rvert 1\\rangle \\quad , \\quad |\\psi_1\\rangle=R_y(b)\\rvert  0 \\rangle = \\cos(b/2) \\rvert 0 \\rangle + \\sin(b/2)\\rvert 1\\rangle$$ \n",
    "and so the imaginary part of the transition amplitude comes down to $\\text{Im}(\\langle\\psi_1|Z|\\psi_0\\rangle ) = -\\sin(a/2)\\sin(b/2)$ ."
   ]
  },
  {
   "cell_type": "code",
   "execution_count": 52,
   "metadata": {},
   "outputs": [],
   "source": [
    "#states definition\n",
    "a = tq.Variable(\"a\")\n",
    "b = 1\n",
    "\n",
    "U0 = tq.gates.Rx(a*np.pi,0)\n",
    "U1 = tq.gates.Ry(b*np.pi,0)\n",
    "\n",
    "#Hamiltonian definition\n",
    "operator = QubitHamiltonian(\"1.0*Z(0)\")\n",
    "\n",
    "br_trans_real, br_trans_im = tq.braket(ket=U0, bra=U1, operator=operator)\n",
    "\n",
    "H_i = tq.compile(br_trans_im) # transalte to backend\n",
    "\n",
    "transitions = []\n",
    "for a in np.arange(0,4.1, 0.1): \n",
    "    # set the value we want to simulate\n",
    "    variables = {\"a\" : a}\n",
    "    br_trans_value = H_i(variables=variables)\n",
    "    transitions.append(round(br_trans_value,3))"
   ]
  },
  {
   "cell_type": "code",
   "execution_count": 53,
   "metadata": {},
   "outputs": [
    {
     "data": {
      "text/plain": [
       "Text(0, 0.5, 'Transitions')"
      ]
     },
     "execution_count": 53,
     "metadata": {},
     "output_type": "execute_result"
    },
    {
     "data": {
      "image/png": "[encoded data removed]",
      "text/plain": [
       "<Figure size 576x360 with 1 Axes>"
      ]
     },
     "metadata": {
      "needs_background": "light"
     },
     "output_type": "display_data"
    }
   ],
   "source": [
    "#plotting the trend\n",
    "fig = plt.figure(figsize=(8,5))\n",
    "plt.plot(np.arange(0,4.1, 0.1), transitions, marker = 'o')\n",
    "plt.xlabel(r'Angle a [$\\pi$]')\n",
    "plt.ylabel('Transitions')"
   ]
  },
  {
   "cell_type": "markdown",
   "metadata": {},
   "source": [
    "## Detailed explanation of internal `braket` structure"
   ]
  },
  {
   "cell_type": "markdown",
   "metadata": {},
   "source": [
    "Let's give some insight about the underlying structure of `braket`.\n",
    "This function in general just calls other functions to do all the different tasks one may need.\n",
    "\n",
    "More in detail, the function acts as follows:\n",
    "\n",
    "- If only ket is passed, `braket` directly returns the real and imaginary part of the self-overlap as `Objective()`. This is required since one may combine the different `braket` modalities and this will require the compilation of an `Objective()`.\n",
    "- If ket and operator are passed, `braket` returns the `ExpectationValue` of the operator for the given state.\n",
    "- If ket and bra are passed, `braket` returns the overlap between the two states. This is done by calling a new Tequila's function called `make_overlap`. Here below, we describe also how this function works.\n",
    "- If ket, bra and operator are passed, `braket` returns the transition element of the operator by calling another new Tequila's function called `make_transition`. Even in this case we provide a description of the internal structure."
   ]
  },
  {
   "cell_type": "markdown",
   "metadata": {},
   "source": [
    "#### `Make_overlap` and `make_transition`"
   ]
  },
  {
   "cell_type": "markdown",
   "metadata": {},
   "source": [
    "The `make_overlap` function constructs the following circuit that is able to calculate the overlap between two states of $n$ qubits. \n",
    "\n",
    "<p align='center'>\n",
    "<img src=\"overlap_circuit.png\" alt=\"overlap circ\" width=\"500\"/>\n",
    "</p>\n",
    "\n",
    "Here, $U_0$ and $U_1$ are two unitaries such that: \n",
    "\n",
    "$$U_0 |0\\rangle^n=|\\psi _ 0 \\rangle \\quad , \\quad U_1 |0\\rangle^n=|\\psi _ 1 \\rangle$$ \n",
    "\n",
    "so the circuit prepares the state:\n",
    "\n",
    "$$ \\frac{1}{\\sqrt{2}}(|\\psi _ 0 \\rangle|0\\rangle+|\\psi _ 1 \\rangle|1\\rangle) \\quad .$$\n",
    "\n",
    "In the end measuring the ancilla in the $2\\sigma_+$ base, gives as output:\n",
    "\n",
    "$$^n\\langle 0|U_ 0 ^\\dagger U_1 |0\\rangle^n=\\langle\\psi _ 0 |\\psi _ 1 \\rangle \\quad .$$\n",
    "\n",
    "We can check the circuit build by the `braket` function with the code contained in the next cell:"
   ]
  },
  {
   "cell_type": "code",
   "execution_count": 16,
   "metadata": {},
   "outputs": [
    {
     "name": "stdout",
     "output_type": "stream",
     "text": [
      "Objective with 1 unique expectation values\n",
      "total measurements = 1\n",
      "variables          = []\n",
      "types              = not compiled\n",
      "\n",
      "Expectation Value 0:\n",
      "total measurements = 1\n",
      "variables          = 0\n",
      "circuit            = 5588029959664042738_0.png\n",
      "0: ───────X───────H───@───\n",
      "          │       │   │\n",
      "1: ───────┼───────┼───X───\n",
      "          │       │   │\n",
      "2: ───H───@───X───@───@───\n"
     ]
    }
   ],
   "source": [
    "U0 = X(0) # state |10>\n",
    "U1 = H(0)+CX(0,1) # Bell state 1/sqrt(2)*(|00>+|11>)\n",
    "\n",
    "br_objective_real, br_objective_im = tq.braket(ket=U1, bra=U0) #consistently with the explained notation\n",
    "\n",
    "tq.draw(br_objective_real)\n"
   ]
  },
  {
   "cell_type": "markdown",
   "metadata": {},
   "source": [
    "As we can see, one ancilla qubit has been added to our quantum register to be used as control qubit. The two circuits have been controlled and applied with the correct structure: the ancilla has an $H$ gate allowing superposition, the $U_0$ is performed when the ancilla is in state $|0\\rangle$ and the $U_1$ when the ancilla is in state $|1\\rangle$. This circuit will be then measured in the $X$ and $Y$ basis to obtain, respectively, the real and the imaginary part $(2\\sigma_+=X+iY)$."
   ]
  },
  {
   "cell_type": "markdown",
   "metadata": {},
   "source": [
    "For what concerns `make_transition` function, this exploits `make_overlap` to calculate multiple contributes of Pauli strings within an Hamiltonian operator. More in detail, suppose we have an Hamiltonian $H$ that can be decomposed as:\n",
    "\n",
    "$$H = \\sum_k c_k P_k$$\n",
    "\n",
    "where $P_k$ are Pauli strings (tensor product of Pauli operators acting on different qubits). Then, in order to calcuate the transition element, we can compute the single contributions and sum them up:\n",
    "\n",
    "$$\\langle\\psi _ 0 | H |\\psi _ 1 \\rangle = \\sum_k c_k \\langle\\psi _ 0 | P_k |\\psi _ 1 \\rangle \\quad .$$\n",
    "\n",
    "Each of these contributions can be obtained from `make_overlap` by appending to the $U_1$ circuit the one that implements the Pauli string:\n",
    "$$\\langle\\psi _ 0 | H |\\psi _ 1 \\rangle = \\sum_k c_k \\langle\\psi _ 0 | P_k \\psi _ 1 \\rangle \\quad .$$\n",
    "\n"
   ]
  },
  {
   "cell_type": "code",
   "execution_count": 18,
   "metadata": {},
   "outputs": [
    {
     "name": "stdout",
     "output_type": "stream",
     "text": [
      "Objective with 2 unique expectation values\n",
      "total measurements = 2\n",
      "variables          = []\n",
      "types              = not compiled\n",
      "\n",
      "Expectation Value 0:\n",
      "total measurements = 1\n",
      "variables          = 0\n",
      "circuit            = 5588029959664042738_0.png\n",
      "0: ───────X───────H───@───X───────\n",
      "          │       │   │   │\n",
      "1: ───────┼───────┼───X───┼───X───\n",
      "          │       │   │   │   │\n",
      "2: ───H───@───X───@───@───@───@───\n",
      "\n",
      "Expectation Value 1:\n",
      "total measurements = 1\n",
      "variables          = 0\n",
      "circuit            = 5588029959664042738_1.png\n",
      "0: ───────X───────H───@───@───\n",
      "          │       │   │   │\n",
      "1: ───────┼───────┼───X───┼───\n",
      "          │       │   │   │\n",
      "2: ───H───@───X───@───@───@───\n"
     ]
    }
   ],
   "source": [
    "U0 = X(0) # state |10>\n",
    "U1 = H(0)+CX(0,1) # Bell state 1/sqrt(2)*(|00>+|11>)\n",
    "\n",
    "#Hamiltonian definition\n",
    "operator = QubitHamiltonian(\"-1.0*X(0)X(1)+0.5*Z(0)\")\n",
    "\n",
    "br_trans_real, br_trans_im = tq.braket(ket=U1, bra=U0, operator=operator) #consistently with the explained notation\n",
    "\n",
    "tq.draw(br_trans_real)"
   ]
  },
  {
   "cell_type": "markdown",
   "metadata": {},
   "source": [
    "We can see that both `br_trans_real` and ` br_trans_im` contain in this case 2 circuits with the same gates in the first part of the circuit, but different gates corresponding to the Pauli operators in the Pauli strings."
   ]
  },
  {
   "cell_type": "markdown",
   "metadata": {},
   "source": [
    "These two functions were designed according to \"N. H. Stair *et al.* - A Multireference Quantum Krylov Algorithm for Strongly Correlated Electrons\" - [arXiv:1911.05163v1](https://arxiv.org/abs/1911.05163), [published paper](https://pubs.acs.org/doi/10.1021/acs.jctc.9b01125).\n",
    "\n",
    "**ATTENTION**: In the attached ArXiv paper there is a missing $X$ gate before the control of $U_\\alpha$ in Figure 2. This has been fixed in the published paper."
   ]
  }
 ],
 "metadata": {
  "interpreter": {
   "hash": "ee5daa585c8ec561a96d5711013c1c24469ecacbf4bca7c4925c7fd376e166ab"
  },
  "kernelspec": {
   "display_name": "Python 3 (ipykernel)",
   "language": "python",
   "name": "python3"
  },
  "language_info": {
   "codemirror_mode": {
    "name": "ipython",
    "version": 3
   },
   "file_extension": ".py",
   "mimetype": "text/x-python",
   "name": "python",
   "nbconvert_exporter": "python",
   "pygments_lexer": "ipython3",
   "version": "3.7.11"
  }
 },
 "nbformat": 4,
 "nbformat_minor": 2
}
